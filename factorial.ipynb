{
  "nbformat": 4,
  "nbformat_minor": 0,
  "metadata": {
    "colab": {
      "provenance": [],
      "include_colab_link": true
    },
    "kernelspec": {
      "name": "python3",
      "display_name": "Python 3"
    },
    "language_info": {
      "name": "python"
    }
  },
  "cells": [
    {
      "cell_type": "markdown",
      "metadata": {
        "id": "view-in-github",
        "colab_type": "text"
      },
      "source": [
        "<a href=\"https://colab.research.google.com/github/Rickiran/Rick-System/blob/master/factorial.ipynb\" target=\"_parent\"><img src=\"https://colab.research.google.com/assets/colab-badge.svg\" alt=\"Open In Colab\"/></a>"
      ]
    },
    {
      "cell_type": "code",
      "execution_count": 1,
      "metadata": {
        "colab": {
          "base_uri": "https://localhost:8080/"
        },
        "id": "uTFPFfn1evXg",
        "outputId": "065f55e2-6f08-4927-e46b-34f1895e4e79"
      },
      "outputs": [
        {
          "output_type": "stream",
          "name": "stdout",
          "text": [
            "Ingrese un número: 5\n",
            "120\n"
          ]
        }
      ],
      "source": [
        "def factorial(n):\n",
        "    if n == 0:\n",
        "        return 1\n",
        "    else:\n",
        "        return n * factorial(n-1)\n",
        "\n",
        "num = int(input(\"Ingrese un número: \"))\n",
        "print(factorial(num))"
      ]
    },
    {
      "cell_type": "code",
      "source": [
        "def factorial_it(n):\n",
        "\n",
        "   value=1\n",
        "\n",
        "   for i in range (1,n+1):\n",
        "      value*=i\n",
        "   return value\n",
        "num=int(input(\"Inserte un numero\"))\n",
        "\n",
        "print(factorial_it(num))"
      ],
      "metadata": {
        "id": "_EfiOn7_hKeO"
      },
      "execution_count": null,
      "outputs": []
    }
  ]
}